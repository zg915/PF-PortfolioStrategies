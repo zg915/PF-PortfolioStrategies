{
 "cells": [
  {
   "cell_type": "code",
   "execution_count": 10,
   "metadata": {},
   "outputs": [],
   "source": [
    "import numpy as np\n",
    "from tqdm import tqdm"
   ]
  },
  {
   "cell_type": "markdown",
   "metadata": {},
   "source": [
    "### Define Distribution Functions"
   ]
  },
  {
   "cell_type": "code",
   "execution_count": 11,
   "metadata": {},
   "outputs": [],
   "source": [
    "def N(mean, variance, size = None):\n",
    "    return np.random.normal(mean, np.sqrt(variance), size)\n",
    "\n",
    "def U(start_point, end_point, size = None):\n",
    "    return np.random.uniform(start_point, end_point, size)\n",
    "\n",
    "def B(α, β, size = None):\n",
    "    return np.random.beta(α, β, size)"
   ]
  },
  {
   "cell_type": "markdown",
   "metadata": {},
   "source": [
    "### Define Observation Functions"
   ]
  },
  {
   "cell_type": "code",
   "execution_count": 12,
   "metadata": {},
   "outputs": [],
   "source": [
    "def transition_function(x̄, ϕ_x, σ_x, ξ_t, x):\n",
    "    particles = x̄ + ϕ_x * (x - x̄) + σ_x * ξ_t\n",
    "    return particles"
   ]
  },
  {
   "cell_type": "code",
   "execution_count": 13,
   "metadata": {},
   "outputs": [],
   "source": [
    "def observation_likelihood(y, μ, x):\n",
    "    σ_t = np.exp(x / 2)\n",
    "\n",
    "    likelihood = (1 / (np.sqrt(2 * np.pi) * σ_t)) * np.exp(- ((y - μ)**2) / (2 * σ_t**2))\n",
    "\n",
    "    return likelihood"
   ]
  },
  {
   "cell_type": "code",
   "execution_count": 14,
   "metadata": {},
   "outputs": [],
   "source": [
    "y = [1,2,3,4,5]"
   ]
  },
  {
   "cell_type": "code",
   "execution_count": 15,
   "metadata": {},
   "outputs": [],
   "source": [
    "L = 1_000 # number of particles\n",
    "T = len(y) # number of time steps"
   ]
  },
  {
   "cell_type": "code",
   "execution_count": 16,
   "metadata": {},
   "outputs": [],
   "source": [
    "μ = U(-5, 5, L) # shape (L, 1)\n",
    "x̄ = U(-1, 5, L) # shape (L, 1)\n",
    "σ_x = U(0, 2, L) # shape (L, 1)\n",
    "ϕ_x = 2 * B(20, 1.5, L) - 1 # shape (L, 1)"
   ]
  },
  {
   "cell_type": "code",
   "execution_count": 17,
   "metadata": {},
   "outputs": [],
   "source": [
    "x = np.zeros((T + 1, L)) # shape (T + 1, L)\n",
    "α = np.zeros((T, L)) # shape (T, L)"
   ]
  },
  {
   "cell_type": "markdown",
   "metadata": {},
   "source": [
    "### initialize $x_0$"
   ]
  },
  {
   "cell_type": "code",
   "execution_count": 18,
   "metadata": {},
   "outputs": [],
   "source": [
    "x[0] = N(x̄, (σ_x ** 2) / (1 - ϕ_x ** 2))"
   ]
  },
  {
   "cell_type": "markdown",
   "metadata": {},
   "source": [
    "### Particle Filtering Loop"
   ]
  },
  {
   "cell_type": "code",
   "execution_count": null,
   "metadata": {},
   "outputs": [
    {
     "name": "stderr",
     "output_type": "stream",
     "text": [
      "100%|██████████| 5/5 [00:00<00:00, 60.72it/s]\n"
     ]
    }
   ],
   "source": [
    "for t in tqdm(range(1, T + 1, 1)):\n",
    "    # generate system noise\n",
    "    ξ_t = N(0, 1, L)\n",
    "    # calculate particles from transition function\n",
    "    particles = transition_function(x̄, ϕ_x, σ_x, ξ_t, x[t-1])\n",
    "    # particles = x̄ + ϕ_x * (x[t-1] - x̄) + σ_x * ξ_t\n",
    "\n",
    "    # calculate weights with Gaussian likelihood\n",
    "    α[t - 1] = observation_likelihood(y[t-1], μ, particles)\n",
    "    α[t - 1] /= np.sum(α[t - 1])\n",
    "\n",
    "    # Resample latents from the particles\n",
    "    for sample_j in range(L):\n",
    "        sample_choice = np.random.choice(np.arange(L), p=α[t - 1])\n",
    "        x[t, sample_j] = particles[sample_choice]\n"
   ]
  }
 ],
 "metadata": {
  "kernelspec": {
   "display_name": "general",
   "language": "python",
   "name": "python3"
  },
  "language_info": {
   "codemirror_mode": {
    "name": "ipython",
    "version": 3
   },
   "file_extension": ".py",
   "mimetype": "text/x-python",
   "name": "python",
   "nbconvert_exporter": "python",
   "pygments_lexer": "ipython3",
   "version": "3.11.4"
  }
 },
 "nbformat": 4,
 "nbformat_minor": 2
}
