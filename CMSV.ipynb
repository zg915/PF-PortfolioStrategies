{
 "cells": [
  {
   "cell_type": "code",
   "execution_count": 10,
   "metadata": {},
   "outputs": [],
   "source": [
    "import numpy as np\n",
    "from tqdm import tqdm"
   ]
  },
  {
   "cell_type": "markdown",
   "metadata": {},
   "source": [
    "### Define Distribution Functions"
   ]
  },
  {
   "cell_type": "code",
   "execution_count": 11,
   "metadata": {},
   "outputs": [],
   "source": [
    "def N(mean, variance, size = None):\n",
    "    return np.random.normal(mean, np.sqrt(variance), size)\n",
    "\n",
    "def U(start_point, end_point, size = None):\n",
    "    return np.random.uniform(start_point, end_point, size)\n",
    "\n",
    "def B(α, β, size = None):\n",
    "    return np.random.beta(α, β, size)"
   ]
  },
  {
   "cell_type": "markdown",
   "metadata": {},
   "source": [
    "### Define Observation Functions"
   ]
  },
  {
   "cell_type": "code",
   "execution_count": 12,
   "metadata": {},
   "outputs": [],
   "source": [
    "def transition_function(x̄, ϕ_x, σ_x, ξ_t, x):\n",
    "    particles = x̄ + ϕ_x * (x - x̄) + σ_x * ξ_t\n",
    "    return particles"
   ]
  },
  {
   "cell_type": "code",
   "execution_count": 13,
   "metadata": {},
   "outputs": [],
   "source": [
    "def observation_likelihood(y, μ, x):\n",
    "    σ_t = np.exp(x / 2)\n",
    "\n",
    "    likelihood = (1 / (np.sqrt(2 * np.pi) * σ_t)) * np.exp(- ((y - μ)**2) / (2 * σ_t**2))\n",
    "\n",
    "    return likelihood"
   ]
  },
  {
   "cell_type": "code",
   "execution_count": 14,
   "metadata": {},
   "outputs": [],
   "source": [
    "y = [1,2,3,4,5]"
   ]
  },
  {
   "cell_type": "code",
   "execution_count": 15,
   "metadata": {},
   "outputs": [],
   "source": [
    "L = 1_000 # number of particles\n",
    "T = len(y) # number of time steps"
   ]
  },
  {
   "cell_type": "code",
   "execution_count": 16,
   "metadata": {},
   "outputs": [],
   "source": [
    "μ = U(-5, 5, L) # shape (L, 1)\n",
    "x̄ = U(-1, 5, L) # shape (L, 1)\n",
    "σ_x = U(0, 2, L) # shape (L, 1)\n",
    "ϕ_x = 2 * B(20, 1.5, L) - 1 # shape (L, 1)"
   ]
  },
  {
   "cell_type": "code",
   "execution_count": null,
   "metadata": {},
   "outputs": [],
   "source": [
    "x = np.zeros((T + 1, L)) # shape (T + 1, L)\n",
    "p = np.zeros((T, L)) # particles, shape (T, L)\n",
    "α = np.zeros((T, L)) # shape (T, L)"
   ]
  },
  {
   "cell_type": "markdown",
   "metadata": {},
   "source": [
    "### initialize $x_0$"
   ]
  },
  {
   "cell_type": "code",
   "execution_count": 18,
   "metadata": {},
   "outputs": [],
   "source": [
    "x[0] = N(x̄, (σ_x ** 2) / (1 - ϕ_x ** 2))"
   ]
  },
  {
   "cell_type": "markdown",
   "metadata": {},
   "source": [
    "### Particle Filtering Loop"
   ]
  },
  {
   "cell_type": "code",
   "execution_count": null,
   "metadata": {},
   "outputs": [
    {
     "name": "stderr",
     "output_type": "stream",
     "text": [
      "100%|██████████| 5/5 [00:00<00:00, 60.72it/s]\n"
     ]
    }
   ],
   "source": [
    "for t in tqdm(range(0, T, 1)):\n",
    "    # generate system noise\n",
    "    ξ_t = N(0, 1, L)\n",
    "    # calculate particles from transition function\n",
    "    p[t] = transition_function(x̄, ϕ_x, σ_x, ξ_t, x[t])\n",
    "    # particles = x̄ + ϕ_x * (x[t-1] - x̄) + σ_x * ξ_t\n",
    "\n",
    "    # calculate likelihood with Gaussian likelihood\n",
    "    α[t] = observation_likelihood(y[t], μ, p[t])\n",
    "\n",
    "    # calculate the weights as the normalized likelihoods\n",
    "    weights = α[t]\n",
    "    weights /= np.sum(α[t])\n",
    "\n",
    "    # Resample latents from the particles\n",
    "    for sample_j in range(L):\n",
    "        sample_choice = np.random.choice(np.arange(L), p = weights)\n",
    "        x[t + 1, sample_j] = p[t, sample_choice]\n"
   ]
  }
 ],
 "metadata": {
  "kernelspec": {
   "display_name": "general",
   "language": "python",
   "name": "python3"
  },
  "language_info": {
   "codemirror_mode": {
    "name": "ipython",
    "version": 3
   },
   "file_extension": ".py",
   "mimetype": "text/x-python",
   "name": "python",
   "nbconvert_exporter": "python",
   "pygments_lexer": "ipython3",
   "version": "3.11.4"
  }
 },
 "nbformat": 4,
 "nbformat_minor": 2
}
